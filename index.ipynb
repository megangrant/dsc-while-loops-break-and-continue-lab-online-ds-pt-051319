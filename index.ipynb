{
 "cells": [
  {
   "cell_type": "markdown",
   "metadata": {},
   "source": [
    "# While Loops, Break and Continue - Lab"
   ]
  },
  {
   "cell_type": "markdown",
   "metadata": {},
   "source": [
    "## Introduction\n",
    "In this lab, we will practice using `while` loops, and `break` and `continue` statements in our code. We will use our control flow statements to iterate through collections and filter out or selectively operate on each element. We'll use `while` loops to perform operations until a given condition is no longer true."
   ]
  },
  {
   "cell_type": "markdown",
   "metadata": {},
   "source": [
    "## Objectives\n",
    "You will be able to:\n",
    "* Use a break and continue statements inside a loop\n",
    "* Understand, explain and use while loops"
   ]
  },
  {
   "cell_type": "markdown",
   "metadata": {},
   "source": [
    "## Instructions\n",
    "\n",
    "### While Loops\n",
    "Use while loops to perform the below operations and get the expected return values"
   ]
  },
  {
   "cell_type": "code",
   "execution_count": 12,
   "metadata": {},
   "outputs": [
    {
     "name": "stdout",
     "output_type": "stream",
     "text": [
      "Might as well have one more slice...\n",
      "Now i've eaten 1 slice!\n",
      "Might as well have one more slice...\n",
      "Now i've eaten 2 slices!\n",
      "Might as well have one more slice...\n",
      "Now i've eaten 3 slices!\n",
      "Might as well have one more slice...\n",
      "Now i've eaten 4 slices!\n",
      "Might as well have one more slice...\n",
      "Now i've eaten 5 slices!\n",
      "Might as well have one more slice...\n",
      "Now i've eaten 6 slices!\n"
     ]
    }
   ],
   "source": [
    "slices_of_pie = 6\n",
    "slices_eaten = 0\n",
    "while slices_eaten<slices_of_pie:\n",
    "    print('Might as well have one more slice...')\n",
    "    slices_eaten += 1\n",
    "    if slices_eaten == 1:\n",
    "         print(\"Now i've eaten \" + str(slices_eaten) + \" slice!\")\n",
    "    else:\n",
    "         print(\"Now i've eaten \" + str(slices_eaten) + \" slices!\")\n",
    "\n",
    "# use a while loop to eat each slice of pie\n",
    "# add each slice to the slices_eaten variable"
   ]
  },
  {
   "cell_type": "code",
   "execution_count": 22,
   "metadata": {},
   "outputs": [
    {
     "name": "stdout",
     "output_type": "stream",
     "text": [
      "One side cooked with 1441 seconds left!\n",
      "Pancake cooked! Now I have 1 and 1414 seconds left for the others!\n",
      "One side cooked with 1387 seconds left!\n",
      "Pancake cooked! Now I have 2 and 1360 seconds left for the others!\n",
      "One side cooked with 1333 seconds left!\n",
      "Pancake cooked! Now I have 3 and 1306 seconds left for the others!\n",
      "One side cooked with 1279 seconds left!\n",
      "Pancake cooked! Now I have 4 and 1252 seconds left for the others!\n",
      "One side cooked with 1225 seconds left!\n",
      "All done! 5 cooked, and with 1198 seconds to spare.\n"
     ]
    }
   ],
   "source": [
    "time_for_breakfast = 1468 # in seconds\n",
    "number_of_cooked_pancakes = 0\n",
    "while time_for_breakfast > 0 and number_of_cooked_pancakes < 5:\n",
    "    time_for_breakfast -= 27\n",
    "    print(\"One side cooked with \" + str(time_for_breakfast) + \" seconds left!\")\n",
    "    time_for_breakfast -=27\n",
    "    number_of_cooked_pancakes += 1\n",
    "    if number_of_cooked_pancakes == 5:\n",
    "        print(\"All done! 5 cooked, and with \" + str(time_for_breakfast) + \" seconds to spare.\")\n",
    "    else:\n",
    "        print(\"Pancake cooked! Now I have \" + str(number_of_cooked_pancakes) + \" and \" + str(time_for_breakfast) + \" seconds left for the others!\")\n",
    "    \n",
    "\n",
    "# use a while loop to make yourself 5 pancakes for breakfast\n",
    "# each pancake takes 27 seconds to cook on each side\n",
    "# you must decrease the time_for_breakfast each time you \n",
    "# add a pancake to the skillet (frying pan) or flip a pancake (i.e. 2 times per pancake)\n",
    "# there is only room for one pancake at a time"
   ]
  },
  {
   "cell_type": "markdown",
   "metadata": {},
   "source": [
    "## For Loops"
   ]
  },
  {
   "cell_type": "markdown",
   "metadata": {},
   "source": [
    "> **Hint:** You may find the [remove method](https://www.programiz.com/python-programming/methods/list/remove) to be useful for the next problem"
   ]
  },
  {
   "cell_type": "code",
   "execution_count": 34,
   "metadata": {},
   "outputs": [
    {
     "name": "stdout",
     "output_type": "stream",
     "text": [
      "Patrons fed: [0, 2, 4, 6, 8, 10, 12, 14, 16, 18, 20, 22, 24, 26, 28]\n",
      "Patrons going hungry: [1, 3, 5, 7, 9, 11, 13, 15, 17, 19, 21, 23, 25, 27, 29]\n"
     ]
    }
   ],
   "source": [
    "line_of_hungry_patrons = list(range(0,30))\n",
    "fed_patrons = []\n",
    "while len(fed_patrons) != 15:\n",
    "    for patron in line_of_hungry_patrons:\n",
    "        if patron % 2 == 0:\n",
    "            fed_patrons.append(patron)\n",
    "            line_of_hungry_patrons.remove(patron)\n",
    "print(\"Patrons fed: \" + str(fed_patrons))\n",
    "print(\"Patrons going hungry: \" + str(line_of_hungry_patrons))\n"
   ]
  },
  {
   "cell_type": "markdown",
   "metadata": {},
   "source": [
    "### `break` And `continue` Statements"
   ]
  },
  {
   "cell_type": "markdown",
   "metadata": {},
   "source": [
    "We have a list of person objects with all kinds of attributes. We'll use loops to find a person that meets a certain requirement that we are looking for or create new lists with a certain subset of elements. Write for loops with conditional statements in conjunction with `break` and `continue` to get the desired output."
   ]
  },
  {
   "cell_type": "code",
   "execution_count": 36,
   "metadata": {},
   "outputs": [],
   "source": [
    "people = [\n",
    "    {'name': \"Daniel\", 'age': 29, 'job': \"Engineer\", 'pet': \"Cat\", 'pet_name': \"Gato\"}, \n",
    "    {'name': \"Katie\", 'age': 30, 'job': \"Teacher\", 'pet': \"Dog\", 'pet_name': \"Frank\"},\n",
    "    {'name': \"Owen\", 'age': 26, 'job': \"Sales person\", 'pet': \"Cat\", 'pet_name': \"Cosmo\"},\n",
    "    {'name': \"Josh\", 'age': 22, 'job': \"Student\", 'pet': \"Cat\", 'pet_name': \"Chat\"},\n",
    "    {'name': \"Estelle\", 'age': 35, 'job': \"French Diplomat\", 'pet': \"Dog\", 'pet_name': \"Gabby\"},\n",
    "    {'name': \"Gustav\", 'age': 24, 'job': \"Brewer\", 'pet': \"Dog\", 'pet_name': \"Helen\"}\n",
    "]"
   ]
  },
  {
   "cell_type": "code",
   "execution_count": 43,
   "metadata": {},
   "outputs": [
    {
     "name": "stdout",
     "output_type": "stream",
     "text": [
      "Katie is the dog owner! Had to check 2 records to find them.\n"
     ]
    }
   ],
   "source": [
    "# use the for loop below to find the *first* person in the list of people that has a dog as their pet\n",
    "# the iteration count shouldn't exceed 2 iterations\n",
    "first_dog_person = None\n",
    "iteration_count = 0\n",
    "for person in people:\n",
    "    iteration_count += 1\n",
    "    if person['pet'] == 'Dog':\n",
    "        print('{} is the dog owner! Had to check {} records to find them.'.format(person['name'], iteration_count))\n",
    "        break\n",
    "    \n"
   ]
  },
  {
   "cell_type": "code",
   "execution_count": null,
   "metadata": {},
   "outputs": [],
   "source": []
  },
  {
   "cell_type": "code",
   "execution_count": null,
   "metadata": {},
   "outputs": [],
   "source": []
  },
  {
   "cell_type": "code",
   "execution_count": 53,
   "metadata": {},
   "outputs": [
    {
     "data": {
      "text/plain": [
       "[{'name': 'Owen',\n",
       "  'age': 26,\n",
       "  'job': 'Sales person',\n",
       "  'pet': 'Cat',\n",
       "  'pet_name': 'Cosmo'},\n",
       " {'name': 'Josh',\n",
       "  'age': 22,\n",
       "  'job': 'Student',\n",
       "  'pet': 'Cat',\n",
       "  'pet_name': 'Chat'}]"
      ]
     },
     "execution_count": 53,
     "metadata": {},
     "output_type": "execute_result"
    }
   ],
   "source": [
    "# use a for loop to create a list of the cat owners who are under the age of 28\n",
    "cat_owners = []\n",
    "for person in people:\n",
    "    if person['pet'] == 'Cat' and person['age'] < 28:\n",
    "        cat_owners.append(person)\n",
    "cat_owners\n",
    "# for loop goes here"
   ]
  },
  {
   "cell_type": "code",
   "execution_count": 61,
   "metadata": {},
   "outputs": [
    {
     "data": {
      "text/plain": [
       "[{'name': 'Katie',\n",
       "  'age': 30,\n",
       "  'job': 'Teacher',\n",
       "  'pet': 'Dog',\n",
       "  'pet_name': 'Frank'}]"
      ]
     },
     "execution_count": 61,
     "metadata": {},
     "output_type": "execute_result"
    }
   ],
   "source": [
    "# use a for loop to find the first person who is above 29 years old in our list of people\n",
    "# remember to use a break and or continue statement\n",
    "thirty_something_yr_old = []\n",
    "for thirty in people:\n",
    "    if thirty['age'] > 29:\n",
    "        thirty_something_yr_old.append(thirty)\n",
    "        break\n",
    "thirty_something_yr_old\n",
    "\n",
    "# for loop goes here"
   ]
  },
  {
   "cell_type": "code",
   "execution_count": 66,
   "metadata": {},
   "outputs": [
    {
     "data": {
      "text/plain": [
       "(['Daniel', 'Katie', 'Owen', 'Josh', 'Estelle', 'Gustav'],\n",
       " ['Cat', 'Dog', 'Cat', 'Cat', 'Dog', 'Dog'])"
      ]
     },
     "execution_count": 66,
     "metadata": {},
     "output_type": "execute_result"
    }
   ],
   "source": [
    "# use a for loop to create a list of person names and another list of pet names for all dog owners\n",
    "dog_owner_names = []\n",
    "dog_names = []\n",
    "for person in people:\n",
    "    dog_owner_names.append(person['name'])\n",
    "    dog_names.append(person['pet'])\n",
    "dog_owner_names , dog_names\n",
    "\n",
    "# for loop goes here"
   ]
  },
  {
   "cell_type": "code",
   "execution_count": 5,
   "metadata": {},
   "outputs": [
    {
     "name": "stdout",
     "output_type": "stream",
     "text": [
      "[11, 13, 15, 17, 19, 21, 23, 25, 27, 29, 31, 33, 35, 37, 39, 41, 43, 45, 47, 49, 51, 53, 55, 57, 59, 61, 63, 65, 67, 69, 71, 73, 75, 77, 79]\n"
     ]
    },
    {
     "data": {
      "text/plain": [
       "35"
      ]
     },
     "execution_count": 5,
     "metadata": {},
     "output_type": "execute_result"
    }
   ],
   "source": [
    "list_of_numbers = list(range(0,100))\n",
    "list_of_odd_numbers_plus_ten = []\n",
    "for number in list_of_numbers:\n",
    "    if  number % 2 != 0:\n",
    "        list_of_odd_numbers_plus_ten.append(number + 10)\n",
    "    else:\n",
    "        pass\n",
    "    if len(list_of_odd_numbers_plus_ten) > 34:\n",
    "        break\n",
    "    else:\n",
    "        continue\n",
    "        \n",
    "print(list_of_odd_numbers_plus_ten)\n"
   ]
  },
  {
   "cell_type": "markdown",
   "metadata": {},
   "source": [
    "## Summary"
   ]
  },
  {
   "cell_type": "markdown",
   "metadata": {},
   "source": [
    "In this lab, we practiced using while loops, which continue executing their block of code until the given condition is no longer truthy. This is useful for instances where we do not have a collection or do not need a collection to solve our problem, especially when we would only like to stop the process according to a certain condition. We then practiced using control flow statements, `break` and `continue`, to selectively operate on elements, append them to new lists, or assign them to new variables."
   ]
  }
 ],
 "metadata": {
  "kernelspec": {
   "display_name": "learn-env",
   "language": "python",
   "name": "learn-env"
  },
  "language_info": {
   "codemirror_mode": {
    "name": "ipython",
    "version": 3
   },
   "file_extension": ".py",
   "mimetype": "text/x-python",
   "name": "python",
   "nbconvert_exporter": "python",
   "pygments_lexer": "ipython3",
   "version": "3.6.6"
  }
 },
 "nbformat": 4,
 "nbformat_minor": 2
}
